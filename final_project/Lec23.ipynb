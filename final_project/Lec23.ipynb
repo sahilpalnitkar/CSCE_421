{
 "cells": [
  {
   "cell_type": "markdown",
   "metadata": {},
   "source": [
    "# Lecture 23: Deep Learning Models"
   ]
  },
  {
   "cell_type": "markdown",
   "metadata": {},
   "source": [
    "## 1. Convolutional Neural Networks in PyTorch"
   ]
  },
  {
   "cell_type": "markdown",
   "metadata": {},
   "source": [
    "https://pytorch.org/docs/stable/generated/torch.nn.Conv2d.html"
   ]
  },
  {
   "cell_type": "markdown",
   "metadata": {},
   "source": [
    "1.1 Import packages"
   ]
  },
  {
   "cell_type": "code",
   "execution_count": 1,
   "metadata": {},
   "outputs": [],
   "source": [
    "import torch\n",
    "from torch import nn\n",
    "import torch.optim as optim"
   ]
  },
  {
   "cell_type": "markdown",
   "metadata": {},
   "source": [
    "1.2 CNN class"
   ]
  },
  {
   "cell_type": "code",
   "execution_count": 2,
   "metadata": {},
   "outputs": [],
   "source": [
    "class CNN(nn.Module):\n",
    "    def __init__(self):\n",
    "        super(CNN, self).__init__()\n",
    "        #input shape (3,256,256)\n",
    "        self.conv1 = nn.Sequential(\n",
    "            nn.Conv2d(in_channels=3, #input channels\n",
    "                      out_channels=16, #n_filter\n",
    "                     kernel_size=5, #filter size\n",
    "                     stride=1, #filter step\n",
    "                     padding=2 #same output size\n",
    "                     ), #shape (16,256,256)\n",
    "            nn.ReLU(), #fully-connected layer\n",
    "            nn.MaxPool2d(kernel_size=2)) #max pooling layer. 2x2 sampling\n",
    "        #output shape (16,128,128)\n",
    "        \n",
    "        self.conv2 = nn.Sequential(nn.Conv2d(16, 32, 5, 1, 2), \n",
    "                                  nn.ReLU(),\n",
    "                                  nn.MaxPool2d(2))\n",
    "        #output shape (32,64,64)\n",
    "        \n",
    "        self.out = nn.Linear(32*64*64,10)\n",
    "\n",
    "    def forward(self, x):\n",
    "        x = self.conv1(x)\n",
    "        x = self.conv2(x)\n",
    "        #Flatten\n",
    "        x = x.view(x.size(0), -1)\n",
    "        output = self.out(x)\n",
    "        return output"
   ]
  },
  {
   "cell_type": "markdown",
   "metadata": {},
   "source": [
    "## 2. Recurrent Neural Networks in Pytorch"
   ]
  },
  {
   "cell_type": "markdown",
   "metadata": {},
   "source": [
    "2.1 LSTM class"
   ]
  },
  {
   "cell_type": "code",
   "execution_count": 3,
   "metadata": {},
   "outputs": [],
   "source": [
    "class LSTM(nn.Module):\n",
    "    def __init__(self, input_size=1, hidden_size=100, output_size=1, batch_size=8):\n",
    "        super().__init__()\n",
    "        self.batch_size = batch_size\n",
    "        self.hidden_size = hidden_size\n",
    "        self.num_layers = 1\n",
    "        \n",
    "        #First LSTM layer: bidirectional\n",
    "        self.lstm1 = nn.LSTM(input_size, hidden_size, num_layers=self.num_layers,batch_first=True, bidirectional=True)\n",
    "        #Second LSTM layer\n",
    "        self.lstm2 = nn.LSTM(input_size, hidden_size, num_layers=self.num_layers,batch_first=True)\n",
    "\n",
    "        self.linear = nn.Linear(hidden_size, output_size)\n",
    "        \n",
    "        #dropout layer\n",
    "        self._dropout1 = nn.Dropout(p=0.3)\n",
    "        self._dropout2 = nn.Dropout(p=0.2)\n",
    "\n",
    "\n",
    "    def forward(self, input_seq, train=False):\n",
    "        device = torch.device(\"cuda\")\n",
    "        h0 = torch.zeros(self.num_layers+1, self.batch_size, self.hidden_size).to(device)\n",
    "        c0 = torch.zeros(self.num_layers+1, self.batch_size, self.hidden_size).to(device)\n",
    "        h1 = torch.zeros(self.num_layers, self.batch_size, self.hidden_size).to(device)\n",
    "        c1 = torch.zeros(self.num_layers, self.batch_size, self.hidden_size).to(device)\n",
    "        \n",
    "        lstm_out, hidden_cell = self.lstm2(input_seq, (h1, c1))\n",
    "        unpacked, unpacked_len = torch.nn.utils.rnn.pad_packed_sequence(lstm_out)\n",
    "        \n",
    "        lstm_out = unpacked\n",
    "        predictions = self.linear(lstm_out[-1, :, :])\n",
    "        \n",
    "        return predictions"
   ]
  },
  {
   "cell_type": "code",
   "execution_count": null,
   "metadata": {},
   "outputs": [],
   "source": []
  },
  {
   "cell_type": "code",
   "execution_count": null,
   "metadata": {},
   "outputs": [],
   "source": []
  }
 ],
 "metadata": {
  "kernelspec": {
   "display_name": "Python 3",
   "language": "python",
   "name": "python3"
  },
  "language_info": {
   "codemirror_mode": {
    "name": "ipython",
    "version": 3
   },
   "file_extension": ".py",
   "mimetype": "text/x-python",
   "name": "python",
   "nbconvert_exporter": "python",
   "pygments_lexer": "ipython3",
   "version": "3.7.8"
  }
 },
 "nbformat": 4,
 "nbformat_minor": 2
}
